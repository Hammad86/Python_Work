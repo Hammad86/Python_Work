{
 "cells": [
  {
   "cell_type": "code",
   "execution_count": 1,
   "id": "10c2709b",
   "metadata": {},
   "outputs": [
    {
     "name": "stdout",
     "output_type": "stream",
     "text": [
      "Twinkle, twinkle, little star, \n",
      " \t How I wonder  what you are! \n",
      " \t \t Up above the world so high, \n",
      " \t \t Like a diamond in the sky \n",
      " Twinkle, twinkle, little star, \n",
      " \t How I wonder  what you are!\n"
     ]
    }
   ],
   "source": [
    "#Write a Python program to print the following string in a specific format\n",
    "print('Twinkle, twinkle, little star,',\"\\n\" ,\"\\t\",'How I wonder  what you are!',\"\\n\",\"\\t \\t\", 'Up above the world so high,' ,\"\\n\",\"\\t \\t\",'Like a diamond in the sky',\"\\n\",'Twinkle, twinkle, little star,',\"\\n\",\"\\t\" , 'How I wonder  what you are!')"
   ]
  },
  {
   "cell_type": "code",
   "execution_count": 2,
   "id": "e38240c3",
   "metadata": {},
   "outputs": [
    {
     "name": "stdout",
     "output_type": "stream",
     "text": [
      "pythan version:\n",
      "3.8.8 (default, Apr 13 2021, 15:08:03) [MSC v.1916 64 bit (AMD64)]\n"
     ]
    }
   ],
   "source": [
    "#Write a Python program to get the Python version you are using\n",
    "import sys\n",
    "print(\"pythan version:\")\n",
    "print(sys.version)\n"
   ]
  },
  {
   "cell_type": "code",
   "execution_count": 3,
   "id": "dd572eec",
   "metadata": {},
   "outputs": [
    {
     "name": "stdout",
     "output_type": "stream",
     "text": [
      "Todays Date:  2021-11-03 12:49:28.243689\n"
     ]
    }
   ],
   "source": [
    "#Write a Python program to display the current date and time.\n",
    "import datetime\n",
    "date = datetime.datetime.now()\n",
    "print(\"Todays Date: \", date )"
   ]
  },
  {
   "cell_type": "code",
   "execution_count": 4,
   "id": "63da062f",
   "metadata": {},
   "outputs": [
    {
     "name": "stdout",
     "output_type": "stream",
     "text": [
      "Enter the value of radius:3.4\n",
      "Area of a circle is:  36.316811075498\n"
     ]
    }
   ],
   "source": [
    "# Write a Python program which accepts the radius of a circle from the user and compute\n",
    "# the area.\n",
    "from math import pi\n",
    "r = float(input(\"Enter the value of radius:\"))\n",
    "print(\"Area of a circle is: \", (pi* r**2))"
   ]
  },
  {
   "cell_type": "code",
   "execution_count": 5,
   "id": "78df8130",
   "metadata": {},
   "outputs": [
    {
     "name": "stdout",
     "output_type": "stream",
     "text": [
      "Enter Your First Name:Ali\n",
      "Enter Your Last Name:Mughal\n",
      "Mughal Ali\n"
     ]
    }
   ],
   "source": [
    "# Write a Python program which accepts the user's first and last name and print them in\n",
    "# reverse order with a space between them.\n",
    "fname = input(\"Enter Your First Name:\")\n",
    "lname = input(\"Enter Your Last Name:\")\n",
    "print(lname+ \" \" + fname)"
   ]
  },
  {
   "cell_type": "code",
   "execution_count": 6,
   "id": "7c818993",
   "metadata": {},
   "outputs": [
    {
     "name": "stdout",
     "output_type": "stream",
     "text": [
      "Enter a Number:2\n",
      "Enter another Number:3\n",
      "Addition Of 2 and 3 is:5\n"
     ]
    }
   ],
   "source": [
    "# Write a python program which takes two inputs from user and print them addition\n",
    "a = int(input(\"Enter a Number:\"))\n",
    "b = int(input(\"Enter another Number:\"))\n",
    "print(\"Addition Of\"+\" \"+str(a)+\" and \"+str(b)+\" \"+\"is:\"+str(a+b))"
   ]
  },
  {
   "cell_type": "code",
   "execution_count": 11,
   "id": "c46819fb",
   "metadata": {},
   "outputs": [
    {
     "name": "stdout",
     "output_type": "stream",
     "text": [
      "Enter English Marks: 90\n",
      "Enter Islamiat Marks:80\n",
      "Enter Maths Marks:79\n",
      "You Got A-1 Grade\n",
      "83.0 %\n"
     ]
    }
   ],
   "source": [
    "# Write a program which takes 5 inputs from user for different subject’s marks, total it\n",
    "# and generate mark sheet using grades ?\n",
    "english = input('Enter English Marks: ')\n",
    "islamiat = input('Enter Islamiat Marks:')\n",
    "maths = input('Enter Maths Marks:')\n",
    "Science = input('Enter Science Marks:')\n",
    "Computer = input('Enter Computer Marks:')\n",
    "\n",
    "english = int(english)\n",
    "islamiat = int(islamiat) \n",
    "maths = int(maths)\n",
    "\n",
    "total_marks = 300\n",
    "\n",
    "obtain_marks = english + islamiat + maths \n",
    "percentage = obtain_marks/total_marks * 100\n",
    "\n",
    "if(percentage >= 80 and percentage <=100): print(\"You Got A-1 Grade\")\n",
    "\n",
    "elif (percentage >= 70 and percentage <-79): print(\"You Got A Grade\")\n",
    "\n",
    "elif (percentage >= 60 and percentage <=69): print(\"You Got B Grade\")\n",
    "\n",
    "elif (percentage >= 50 and percentage <=59): print(\"You Got C Grade\")\n",
    "\n",
    "elif (percentage < 50): print(\"You Are Failed\")\n",
    "\n",
    "print (percentage,\"%\")"
   ]
  },
  {
   "cell_type": "code",
   "execution_count": 13,
   "id": "8d07f540",
   "metadata": {},
   "outputs": [
    {
     "name": "stdout",
     "output_type": "stream",
     "text": [
      "Enter any Number:5\n",
      "Number is Odd\n"
     ]
    }
   ],
   "source": [
    "# Write a program which take input from user and identify that the given number is even\n",
    "# or odd?\n",
    "\n",
    "input1 = int(input('Enter any Number:'))\n",
    "if(input1 % 2 == 0):\n",
    "    print(\"Number is Even\")\n",
    "else: \n",
    "    print('Number is Odd')\n"
   ]
  },
  {
   "cell_type": "code",
   "execution_count": 15,
   "id": "67214201",
   "metadata": {},
   "outputs": [
    {
     "name": "stdout",
     "output_type": "stream",
     "text": [
      "Length of list: 11\n"
     ]
    }
   ],
   "source": [
    "# Write a program which print the length of the list?\n",
    "a = [1, 1, 2, 3, 5, 8, 13, 21, 34, 55, 89]\n",
    "print(\"Length of list:\",len(a))"
   ]
  },
  {
   "cell_type": "code",
   "execution_count": 17,
   "id": "cde40295",
   "metadata": {},
   "outputs": [
    {
     "name": "stdout",
     "output_type": "stream",
     "text": [
      "Sum Of all the numeric items in a list: 232\n"
     ]
    }
   ],
   "source": [
    "# 10.Write a Python program to sum all the numeric items in a list?\n",
    "a = [1, 1, 2, 3, 5, 8, 13, 21, 34, 55, 89]\n",
    "print(\"Sum Of all the numeric items in a list:\",sum(a))"
   ]
  },
  {
   "cell_type": "code",
   "execution_count": 19,
   "id": "1d53c312",
   "metadata": {},
   "outputs": [
    {
     "name": "stdout",
     "output_type": "stream",
     "text": [
      "largest number from a numeric list: 89\n"
     ]
    }
   ],
   "source": [
    "# 11.Write a Python program to get the largest number from a numeric list.\n",
    "a = [1, 1, 2, 3, 5, 8, 13, 21, 34, 55, 89]\n",
    "a.sort()\n",
    "print(\"largest number from a numeric list:\",a[-1])"
   ]
  },
  {
   "cell_type": "code",
   "execution_count": 20,
   "id": "c5a135bc",
   "metadata": {},
   "outputs": [
    {
     "name": "stdout",
     "output_type": "stream",
     "text": [
      "1\n",
      "1\n",
      "2\n",
      "3\n"
     ]
    }
   ],
   "source": [
    "# Write a program that prints out all the elements of the list that are less than 5.\n",
    "a = [1, 1, 2, 3, 5, 8, 13, 21, 34, 55, 89]\n",
    "for i in a:\n",
    "    if i < 5:\n",
    "        print(i)"
   ]
  },
  {
   "cell_type": "code",
   "execution_count": null,
   "id": "ba4df974",
   "metadata": {},
   "outputs": [],
   "source": []
  }
 ],
 "metadata": {
  "kernelspec": {
   "display_name": "Python 3",
   "language": "python",
   "name": "python3"
  },
  "language_info": {
   "codemirror_mode": {
    "name": "ipython",
    "version": 3
   },
   "file_extension": ".py",
   "mimetype": "text/x-python",
   "name": "python",
   "nbconvert_exporter": "python",
   "pygments_lexer": "ipython3",
   "version": "3.8.8"
  }
 },
 "nbformat": 4,
 "nbformat_minor": 5
}
